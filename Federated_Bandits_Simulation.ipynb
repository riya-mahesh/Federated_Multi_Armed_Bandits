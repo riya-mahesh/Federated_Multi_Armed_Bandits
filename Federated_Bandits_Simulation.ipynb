{
  "cells": [
    {
      "cell_type": "code",
      "execution_count": 30,
      "metadata": {
        "id": "PT8rS4yIuJCU"
      },
      "outputs": [],
      "source": [
        "import numpy as np\n",
        "import matplotlib.pyplot as plt\n",
        "\n",
        "# Define the FedELIM algorithm\n",
        "def fedelim(K, M, means, delta, C, communicate_every_round=False):\n",
        "    n = 0  # iteration counter\n",
        "    total_pulls = 0\n",
        "    comm_cost = 0\n",
        "    mu_hat = np.zeros((K, M))\n",
        "    mu_hat_g = np.zeros(K)  # empirical means\n",
        "    S_m = [list(range(K)) for _ in range(M)]  # active arms for each client\n",
        "    S_g = list(range(K))  # global active arms\n",
        "    run = True\n",
        "\n",
        "    alpha_l = lambda n: np.sqrt(2 * np.log(8 * K * M * n**2 / delta) / n)\n",
        "    alpha_g = lambda n: np.sqrt(2 * np.log(8 * K * n**2 / delta) / (M * n))\n",
        "\n",
        "    while run:\n",
        "        n += 1  # increment round number\n",
        "        for m in range(M):\n",
        "            if len(np.union1d(S_m[m],S_g)) > 1:\n",
        "                for k in np.union1d(S_m[m],S_g):\n",
        "                    arm_reward = np.random.normal(means[k, m], 1)  # simulate pulling the arm\n",
        "                    total_pulls += 1\n",
        "                    mu_hat[k, m] = (mu_hat[k, m] * (n - 1) + arm_reward) / n  # update empirical mean\n",
        "\n",
        "                max_mu_m = max(mu_hat[k, m] for k in S_m[m])\n",
        "                S_m[m] = [k for k in S_m[m] if max_mu_m - mu_hat[k, m] < 2 * alpha_l(n)]\n",
        "\n",
        "        if len(S_g) > 1 and (communicate_every_round or (n in [2 ** t for t in range(int(np.log2(n)) + 1)])):\n",
        "            comm_cost = comm_cost + (C * M * len(S_g))\n",
        "            for k in S_g:\n",
        "                mu_k = np.mean([mu_hat[k, m] for m in range(M)])  # average empirical mean across clients\n",
        "                mu_hat_g[k] = mu_k\n",
        "\n",
        "            max_mu_g = max(mu_hat_g[k] for k in S_g)\n",
        "            S_g = [k for k in S_g if max_mu_g - mu_hat_g[k] < 2 * alpha_g(n)]\n",
        "\n",
        "        # if len(S_g) == 1:\n",
        "            #print(f\"Globally declared arm {S_g[0]} as the best arm.\")\n",
        "\n",
        "        if all(len(S_m[m]) == 1 for m in range(M)) and len(S_g) == 1:\n",
        "            run = False\n",
        "\n",
        "    total_cost = comm_cost + total_pulls\n",
        "    return total_pulls, comm_cost, total_cost"
      ]
    },
    {
      "cell_type": "code",
      "execution_count": 31,
      "metadata": {
        "id": "5x4JPYUuvGRs"
      },
      "outputs": [],
      "source": [
        "# Running the experiment\n",
        "def run_experiments(K, M, means, deltas, C_values, runs=100):\n",
        "    results = {} #Arm pulls\n",
        "    costs = {} #Total cost\n",
        "    comm = {} #Commuication cost\n",
        "    for delta in deltas:\n",
        "\n",
        "        #Add FedELIM0 separately for C=0\n",
        "\n",
        "        total_pulls_list = []\n",
        "        comm_cost_list = []\n",
        "        total_cost_list = []\n",
        "        np.random.seed(10)\n",
        "        for _ in range(runs):\n",
        "            # FedELIM0 (communicate every round)\n",
        "            total_pulls, comm_cost, total_cost = fedelim(K, M, means, delta, 0, communicate_every_round=True)\n",
        "            total_pulls_list.append(total_pulls)\n",
        "            comm_cost_list.append(comm_cost)\n",
        "            total_cost_list.append(total_cost)\n",
        "\n",
        "        mean_pulls = np.mean(total_pulls_list)\n",
        "        mean_comm_cost = np.mean(comm_cost_list)\n",
        "        mean_total_cost = np.mean(total_cost_list)\n",
        "        std_pulls = np.std(total_pulls_list)\n",
        "        std_comm_cost = np.std(comm_cost_list)\n",
        "        std_total_cost = np.std(total_cost_list)\n",
        "\n",
        "        results[(delta, 0, 'FedELIM0')] = (mean_pulls, std_pulls)\n",
        "        costs[(delta, 0, 'FedELIM0')] = (mean_total_cost, std_total_cost)\n",
        "        comm[(delta, 0, 'FedELIM0')] = (mean_comm_cost, std_comm_cost)\n",
        "\n",
        "        for C in C_values:\n",
        "        #Add FedELIM0 separately for C=0\n",
        "\n",
        "            total_pulls_list = []\n",
        "            comm_cost_list = []\n",
        "            total_cost_list = []\n",
        "            np.random.seed(10)\n",
        "            for _ in range(runs):\n",
        "                # FedELIM0 (communicate every round)\n",
        "                total_pulls, comm_cost, total_cost = fedelim(K, M, means, delta, C , communicate_every_round=False)\n",
        "                total_pulls_list.append(total_pulls)\n",
        "                comm_cost_list.append(comm_cost)\n",
        "                total_cost_list.append(total_cost)\n",
        "\n",
        "\n",
        "            mean_pulls = np.mean(total_pulls_list)\n",
        "            mean_comm_cost = np.mean(comm_cost_list)\n",
        "            mean_total_cost = np.mean(total_cost_list)\n",
        "            std_pulls = np.std(total_pulls_list, ddof=1)\n",
        "            std_comm_cost = np.std(comm_cost_list, ddof=1)\n",
        "            std_total_cost = np.std(total_cost_list, ddof=1)\n",
        "\n",
        "            results[(delta, C, 'FedELIM')] = (mean_pulls, std_pulls)\n",
        "            costs[(delta, C, 'FedELIM')] = (mean_total_cost, std_total_cost)\n",
        "            comm[(delta, C, 'FedELIM')] = (mean_comm_cost, std_comm_cost)\n",
        "\n",
        "    return results, costs, comm"
      ]
    },
    {
      "cell_type": "code",
      "execution_count": 27,
      "metadata": {
        "id": "QHfWdk5XvHEZ"
      },
      "outputs": [],
      "source": [
        "import numpy as np\n",
        "import matplotlib.pyplot as plt\n",
        "\n",
        "# Updated plotting function\n",
        "def plot_results(results, costs, deltas, C_values):\n",
        "    colors = ['orange', 'blue', 'green', 'red']  # Colors for the 4 cases: FedELIM0 C=0, FedELIM C=0, C=10, C=100\n",
        "    labels = [\"FedELIM0 C = 0\", \"FedELIM C = 0\", \"FedELIM C = 10\", \"FedELIM C = 100\"]\n",
        "\n",
        "    x_pos = np.arange(len(deltas))\n",
        "    width = 0.2  # Bar width\n",
        "\n",
        "    fig, ax = plt.subplots()\n",
        "\n",
        "    # First bar is for FedELIM0 with C=0\n",
        "    fedelim0_means = [results[(delta, 0, 'FedELIM0')][0] for delta in deltas]\n",
        "    fedelim0_stds = [results[(delta, 0, 'FedELIM0')][1] for delta in deltas]\n",
        "    ax.bar(x_pos, fedelim0_means, width, yerr=fedelim0_stds, label=\"FedELIM0 C = 0\", color=colors[0])\n",
        "\n",
        "    # Following bars for FedELIM with C=0, C=10, and C=100\n",
        "    for i, C in enumerate([0, 10, 100]):\n",
        "        means = [costs[(delta, C, 'FedELIM')][0] for delta in deltas]\n",
        "        stds = [costs[(delta, C, 'FedELIM')][1] for delta in deltas]\n",
        "        ax.bar(x_pos + (i + 1)*width, means, width, yerr=stds, label=labels[i + 1], color=colors[i + 1])\n",
        "\n",
        "    # Set x-axis labels to ln(1/delta)\n",
        "    ln_deltas = [np.log(1/delta) for delta in deltas]\n",
        "    ax.set_xticks(x_pos + 1.5*width)\n",
        "    ax.set_xticklabels([f'{np.log(1/delta)}' for delta in deltas])\n",
        "\n",
        "    ax.set_xlabel('ln(1/delta)')\n",
        "    ax.set_ylabel('Total Cost')\n",
        "    ax.set_title('Total Cost vs ln(1/delta) for Different Communication Costs')\n",
        "    ax.legend()\n",
        "\n",
        "    plt.show()"
      ]
    },
    {
      "cell_type": "code",
      "execution_count": 29,
      "metadata": {
        "colab": {
          "base_uri": "https://localhost:8080/",
          "height": 478
        },
        "id": "YVFzdyC6v-PF",
        "outputId": "3ea25aa6-ca03-4560-aa39-888af10f115b"
      },
      "outputs": [],
      "source": [
        "# Main execution\n",
        "means = np.array([[0.9, 0.1, 0.1],\n",
        "                  [0.1, 0.9, 0.1],\n",
        "                  [0.1, 0.1, 0.9],\n",
        "                  [0.5, 0.5, 0.5]])\n",
        "\n",
        "K, M = means.shape\n",
        "deltas = [np.exp(-1), np.exp(-3), np.exp(-5)]  # Different delta values\n",
        "C_values = [0, 10, 100]  # Different communication costs\n",
        "\n",
        "# Run experiments and plot results\n",
        "results, costs, comm = run_experiments(K, M, means, deltas, C_values, 10)\n",
        "# plot_results(results, deltas, C_values)"
      ]
    },
    {
      "cell_type": "code",
      "execution_count": null,
      "metadata": {
        "colab": {
          "base_uri": "https://localhost:8080/"
        },
        "id": "vA2DfFSu5fGJ",
        "outputId": "62d7e2da-8ab2-4bbd-9328-24adf4acbd83"
      },
      "outputs": [
        {
          "data": {
            "text/plain": [
              "{(0.3678794411714424, 0, 'FedELIM0'): (70940.5, 141678.97222047456),\n",
              " (0.3678794411714424, 0, 'FedELIM'): (32995.4, 14989.802542617654),\n",
              " (0.3678794411714424, 10, 'FedELIM'): (32995.4, 14989.802542617654),\n",
              " (0.3678794411714424, 100, 'FedELIM'): (32995.4, 14989.802542617654),\n",
              " (0.04978706836786394, 0, 'FedELIM0'): (24197.0, 10367.158231646703),\n",
              " (0.04978706836786394, 0, 'FedELIM'): (25864.8, 11622.97936369539),\n",
              " (0.04978706836786394, 10, 'FedELIM'): (25864.8, 11622.97936369539),\n",
              " (0.04978706836786394, 100, 'FedELIM'): (25864.8, 11622.97936369539),\n",
              " (0.006737946999085467, 0, 'FedELIM0'): (24320.7, 7361.105895855595),\n",
              " (0.006737946999085467, 0, 'FedELIM'): (25872.1, 5904.174633257387),\n",
              " (0.006737946999085467, 10, 'FedELIM'): (25872.1, 5904.174633257387),\n",
              " (0.006737946999085467, 100, 'FedELIM'): (25872.1, 5904.174633257387)}"
            ]
          },
          "execution_count": 23,
          "metadata": {},
          "output_type": "execute_result"
        }
      ],
      "source": [
        "results"
      ]
    },
    {
      "cell_type": "code",
      "execution_count": null,
      "metadata": {
        "colab": {
          "base_uri": "https://localhost:8080/"
        },
        "id": "Ki6LnLnA5iPb",
        "outputId": "477781bb-fc8a-4234-a4fb-d451b22e7ea9"
      },
      "outputs": [
        {
          "data": {
            "text/plain": [
              "{(0.3678794411714424, 0, 'FedELIM0'): (70940.5, 141678.97222047456),\n",
              " (0.3678794411714424, 0, 'FedELIM'): (32995.4, 14989.802542617654),\n",
              " (0.3678794411714424, 10, 'FedELIM'): (34606.4, 15067.66001297702),\n",
              " (0.3678794411714424, 100, 'FedELIM'): (49105.4, 15778.499937150762),\n",
              " (0.04978706836786394, 0, 'FedELIM0'): (24197.0, 10367.158231646703),\n",
              " (0.04978706836786394, 0, 'FedELIM'): (25864.8, 11622.97936369539),\n",
              " (0.04978706836786394, 10, 'FedELIM'): (27451.8, 11688.170285473352),\n",
              " (0.04978706836786394, 100, 'FedELIM'): (41734.8, 12276.502051570806),\n",
              " (0.006737946999085467, 0, 'FedELIM0'): (24320.7, 7361.105895855595),\n",
              " (0.006737946999085467, 0, 'FedELIM'): (25872.1, 5904.174633257387),\n",
              " (0.006737946999085467, 10, 'FedELIM'): (27468.1, 5947.7197395304365),\n",
              " (0.006737946999085467, 100, 'FedELIM'): (41832.1, 6348.590245085911)}"
            ]
          },
          "execution_count": 24,
          "metadata": {},
          "output_type": "execute_result"
        }
      ],
      "source": [
        "costs"
      ]
    },
    {
      "cell_type": "code",
      "execution_count": null,
      "metadata": {
        "colab": {
          "base_uri": "https://localhost:8080/"
        },
        "id": "HpIoLgI65qIU",
        "outputId": "10e047ab-46b2-4e6b-d1a8-a612f98ed184"
      },
      "outputs": [
        {
          "data": {
            "text/plain": [
              "{(0.3678794411714424, 0, 'FedELIM0'): (0.0, 0.0),\n",
              " (0.3678794411714424, 0, 'FedELIM'): (0.0, 0.0),\n",
              " (0.3678794411714424, 10, 'FedELIM'): (1623.0, 127.63228431709588),\n",
              " (0.3678794411714424, 100, 'FedELIM'): (16230.0, 1276.3228431709588),\n",
              " (0.04978706836786394, 0, 'FedELIM0'): (0.0, 0.0),\n",
              " (0.04978706836786394, 0, 'FedELIM'): (0.0, 0.0),\n",
              " (0.04978706836786394, 10, 'FedELIM'): (1641.0, 86.08135686662938),\n",
              " (0.04978706836786394, 100, 'FedELIM'): (16410.0, 860.8135686662937),\n",
              " (0.006737946999085467, 0, 'FedELIM0'): (0.0, 0.0),\n",
              " (0.006737946999085467, 0, 'FedELIM'): (0.0, 0.0),\n",
              " (0.006737946999085467, 10, 'FedELIM'): (1587.0, 38.600518131237564),\n",
              " (0.006737946999085467, 100, 'FedELIM'): (15870.0, 386.00518131237567)}"
            ]
          },
          "execution_count": 15,
          "metadata": {},
          "output_type": "execute_result"
        }
      ],
      "source": [
        "comm"
      ]
    },
    {
      "cell_type": "code",
      "execution_count": null,
      "metadata": {
        "colab": {
          "base_uri": "https://localhost:8080/"
        },
        "id": "jJh5P6aFZTyI",
        "outputId": "b35f8e59-7f49-43ad-9442-94d8adfbf4b0"
      },
      "outputs": [
        {
          "name": "stdout",
          "output_type": "stream",
          "text": [
            "Delta = 0.3678794411714424\n",
            "Delta_km values (suboptimality gaps for each arm and client):\n",
            "[[0.  0.8 0.8]\n",
            " [0.8 0.  0.8]\n",
            " [0.8 0.8 0. ]\n",
            " [0.4 0.4 0.4]]\n",
            "\n",
            "Delta_k values (global suboptimality gaps for each arm):\n",
            "[0.13333333 0.13333333 0.13333333 0.        ]\n",
            "\n",
            "T_km values (per arm and client):\n",
            "[[   0.         1178.3579949  1178.3579949 ]\n",
            " [1178.3579949     0.         1178.3579949 ]\n",
            " [1178.3579949  1178.3579949     0.        ]\n",
            " [5594.19463481 5594.19463481 5594.19463481]]\n",
            "\n",
            "T_k values (global):\n",
            "[16780.58390444 16780.58390444 16780.58390444     0.        ]\n",
            "Delta = 0.04978706836786394\n",
            "Delta_km values (suboptimality gaps for each arm and client):\n",
            "[[0.  0.8 0.8]\n",
            " [0.8 0.  0.8]\n",
            " [0.8 0.8 0. ]\n",
            " [0.4 0.4 0.4]]\n",
            "\n",
            "Delta_k values (global suboptimality gaps for each arm):\n",
            "[0.13333333 0.13333333 0.13333333 0.        ]\n",
            "\n",
            "T_km values (per arm and client):\n",
            "[[   0.         1337.7329949  1337.7329949 ]\n",
            " [1337.7329949     0.         1337.7329949 ]\n",
            " [1337.7329949  1337.7329949     0.        ]\n",
            " [6231.69463481 6231.69463481 6231.69463481]]\n",
            "\n",
            "T_k values (global):\n",
            "[18693.08390444 18693.08390444 18693.08390444     0.        ]\n",
            "Delta = 0.006737946999085467\n",
            "Delta_km values (suboptimality gaps for each arm and client):\n",
            "[[0.  0.8 0.8]\n",
            " [0.8 0.  0.8]\n",
            " [0.8 0.8 0. ]\n",
            " [0.4 0.4 0.4]]\n",
            "\n",
            "Delta_k values (global suboptimality gaps for each arm):\n",
            "[0.13333333 0.13333333 0.13333333 0.        ]\n",
            "\n",
            "T_km values (per arm and client):\n",
            "[[   0.         1497.1079949  1497.1079949 ]\n",
            " [1497.1079949     0.         1497.1079949 ]\n",
            " [1497.1079949  1497.1079949     0.        ]\n",
            " [6869.19463481 6869.19463481 6869.19463481]]\n",
            "\n",
            "T_k values (global):\n",
            "[20605.58390444 20605.58390444 20605.58390444     0.        ]\n"
          ]
        }
      ],
      "source": [
        "import numpy as np\n",
        "\n",
        "def compute_suboptimality_gaps(K, M, means):\n",
        "    \"\"\"\n",
        "    Computes the suboptimality gaps Delta_k,m and Delta_k.\n",
        "\n",
        "    Parameters:\n",
        "    - K: Number of arms\n",
        "    - M: Number of clients\n",
        "    - means: K x M matrix of means where means[k, m] is the mean of arm k for client m\n",
        "\n",
        "    Returns:\n",
        "    - Delta_km: Matrix of Delta_k,m values\n",
        "    - Delta_k: Array of Delta_k values\n",
        "    \"\"\"\n",
        "    # Initialize the Delta matrices\n",
        "    Delta_km = np.zeros((K, M))\n",
        "    Delta_k = np.zeros(K)\n",
        "\n",
        "    for m in range(M):\n",
        "        # Find the best local arm for client m (maximum mean)\n",
        "        k_m_star = np.argmax(means[:, m])\n",
        "        for k in range(K):\n",
        "            # Compute Delta_k,m as the difference between the best arm's mean and the current arm's mean\n",
        "            Delta_km[k, m] = means[k_m_star, m] - means[k, m]\n",
        "\n",
        "    # Find the global best arm across all clients\n",
        "    global_means = np.mean(means, axis=1)  # Average across clients\n",
        "    k_star = np.argmax(global_means)\n",
        "\n",
        "    for k in range(K):\n",
        "        # Compute Delta_k as the difference between the best global arm's mean and the current arm's mean\n",
        "        Delta_k[k] = global_means[k_star] - global_means[k]\n",
        "\n",
        "    return Delta_km, Delta_k\n",
        "\n",
        "def compute_T_km(K, M, Delta_km, Delta_k, delta):\n",
        "    \"\"\"\n",
        "    Computes the value of T_k,m and T_k based on the given formulas.\n",
        "\n",
        "    Parameters:\n",
        "    - K: Number of arms\n",
        "    - M: Number of clients\n",
        "    - Delta_km: Matrix of Delta_k,m values\n",
        "    - Delta_k: Array of Delta_k values\n",
        "    - delta: Global delta value\n",
        "\n",
        "    Returns:\n",
        "    - T_km: Matrix of T_k,m values\n",
        "    - T_k: Array of T_k values\n",
        "    \"\"\"\n",
        "    T_km = np.zeros((K, M))\n",
        "    T_k = np.zeros(K)\n",
        "\n",
        "    for k in range(K):\n",
        "        for m in range(M):\n",
        "            if Delta_km[k, m] != 0:  # Avoid division by zero\n",
        "                # Compute T_k,m\n",
        "                T_km[k, m] = 102 * (np.log(64 * np.sqrt(8 * K * M / delta) / (Delta_km[k, m] ** 2)) / (Delta_km[k, m] ** 2)) + 1\n",
        "            else:\n",
        "                T_km[k, m] = 0  # If no gap, set T_km to 0\n",
        "\n",
        "        if Delta_k[k] != 0:  # Avoid division by zero\n",
        "            # Compute T_k (global)\n",
        "            T_k[k] = 102 * (np.log(64 * np.sqrt(8 * K / (M * delta)) / (M * Delta_k[k] ** 2)) / (M * Delta_k[k] ** 2)) + 1\n",
        "        else:\n",
        "            T_k[k] = 0  # If no gap, set T_k to 0\n",
        "\n",
        "    return T_km, T_k\n",
        "\n",
        "means = np.array([[0.9, 0.1, 0.1],\n",
        "                  [0.1, 0.9, 0.1],\n",
        "                  [0.1, 0.1, 0.9],\n",
        "                  [0.5, 0.5, 0.5]])\n",
        "\n",
        "K, M = means.shape\n",
        "deltas = [np.exp(-1), np.exp(-3), np.exp(-5)]\n",
        "\n",
        "Delta_km, Delta_k = compute_suboptimality_gaps(K, M, means)\n",
        "\n",
        "for delta in deltas:\n",
        "    print(f\"Delta = {delta}\")\n",
        "# Compute the suboptimality gaps\n",
        "\n",
        "\n",
        "    # Compute T_km and T_k\n",
        "    T_km, T_k = compute_T_km(K, M, Delta_km, Delta_k, delta)\n",
        "\n",
        "    print(\"Delta_km values (suboptimality gaps for each arm and client):\")\n",
        "    print(Delta_km)\n",
        "    print(\"\\nDelta_k values (global suboptimality gaps for each arm):\")\n",
        "    print(Delta_k)\n",
        "    print(\"\\nT_km values (per arm and client):\")\n",
        "    print(T_km)\n",
        "    print(\"\\nT_k values (global):\")\n",
        "    print(T_k)"
      ]
    },
    {
      "cell_type": "code",
      "execution_count": null,
      "metadata": {
        "id": "fv1avpj4aZv2"
      },
      "outputs": [],
      "source": [
        "import numpy as np\n",
        "\n",
        "def compute_suboptimality_gaps(K, M, means):\n",
        "    \"\"\"\n",
        "    Computes the suboptimality gaps Delta_k,m and Delta_k.\n",
        "\n",
        "    Parameters:\n",
        "    - K: Number of arms\n",
        "    - M: Number of clients\n",
        "    - means: K x M matrix of means where means[k, m] is the mean of arm k for client m\n",
        "\n",
        "    Returns:\n",
        "    - Delta_km: Matrix of Delta_k,m values\n",
        "    - Delta_k: Array of Delta_k values\n",
        "    \"\"\"\n",
        "    # Initialize the Delta matrices\n",
        "    Delta_km = np.zeros((K, M))\n",
        "    Delta_k = np.zeros(K)\n",
        "\n",
        "    for m in range(M):\n",
        "        # Find the best local arm for client m (maximum mean)\n",
        "        k_m_star = np.argmax(means[:, m])\n",
        "        for k in range(K):\n",
        "            # Compute Delta_k,m as the difference between the best arm's mean and the current arm's mean\n",
        "            Delta_km[k, m] = means[k_m_star, m] - means[k, m]\n",
        "\n",
        "    # Find the global best arm across all clients\n",
        "    global_means = np.mean(means, axis=1)  # Average across clients\n",
        "    k_star = np.argmax(global_means)\n",
        "\n",
        "    for k in range(K):\n",
        "        # Compute Delta_k as the difference between the best global arm's mean and the current arm's mean\n",
        "        Delta_k[k] = global_means[k_star] - global_means[k]\n",
        "\n",
        "    return Delta_km, Delta_k\n",
        "\n",
        "def compute_T_km(K, M, Delta_km, Delta_k, delta):\n",
        "    \"\"\"\n",
        "    Computes the value of T_k,m and T_k based on the given formulas.\n",
        "\n",
        "    Parameters:\n",
        "    - K: Number of arms\n",
        "    - M: Number of clients\n",
        "    - Delta_km: Matrix of Delta_k,m values\n",
        "    - Delta_k: Array of Delta_k values\n",
        "    - delta: Global delta value\n",
        "\n",
        "    Returns:\n",
        "    - T_km: Matrix of T_k,m values\n",
        "    - T_k: Array of T_k values\n",
        "    \"\"\"\n",
        "    T_km = np.zeros((K, M))\n",
        "    T_k = np.zeros(K)\n",
        "\n",
        "    for k in range(K):\n",
        "        for m in range(M):\n",
        "            if Delta_km[k, m] != 0:  # Avoid division by zero\n",
        "                # Compute T_k,m\n",
        "                T_km[k, m] = 102 * (np.log(64 * np.sqrt(8 * K * M / delta) / (Delta_km[k, m] ** 2)) / (Delta_km[k, m] ** 2)) + 1\n",
        "            else:\n",
        "                T_km[k, m] = 0  # If no gap, set T_km to 0\n",
        "\n",
        "        if Delta_k[k] != 0:  # Avoid division by zero\n",
        "            # Compute T_k (global)\n",
        "            T_k[k] = 102 * (np.log(64 * np.sqrt(8 * K / (M * delta)) / (M * Delta_k[k] ** 2)) / (M * Delta_k[k] ** 2)) + 1\n",
        "        else:\n",
        "            T_k[k] = 0  # If no gap, set T_k to 0\n",
        "\n",
        "    return T_km, T_k\n",
        "\n",
        "def compute_total_T(K, M, T_km, T_k):\n",
        "    \"\"\"\n",
        "    Computes the total value of T, which is the summation of max(T_km, T_k) for each k and m.\n",
        "\n",
        "    Parameters:\n",
        "    - K: Number of arms\n",
        "    - M: Number of clients\n",
        "    - T_km: Matrix of T_k,m values\n",
        "    - T_k: Array of T_k values\n",
        "\n",
        "    Returns:\n",
        "    - total_T: The total value of T\n",
        "    \"\"\"\n",
        "    total_T = 0\n",
        "\n",
        "    for k in range(K):\n",
        "        for m in range(M):\n",
        "            # Summing the maximum of T_k,m and T_k for each arm k and client m\n",
        "            total_T += max(T_km[k, m], T_k[k])\n",
        "\n",
        "    return total_T"
      ]
    },
    {
      "cell_type": "code",
      "execution_count": null,
      "metadata": {
        "colab": {
          "base_uri": "https://localhost:8080/"
        },
        "id": "RpM9n25SZkN4",
        "outputId": "4e70adfb-3c21-489d-ff70-988bf0ec4992"
      },
      "outputs": [
        {
          "name": "stdout",
          "output_type": "stream",
          "text": [
            "Delta = 0.3678794411714424\n",
            "167807.83904435142\n",
            "Delta = 0.04978706836786394\n",
            "186932.83904435142\n",
            "Delta = 0.006737946999085467\n",
            "206057.83904435142\n"
          ]
        }
      ],
      "source": [
        "Delta_km, Delta_k = compute_suboptimality_gaps(K, M, means)\n",
        "\n",
        "for delta in deltas:\n",
        "    print(f\"Delta = {delta}\")\n",
        "    T_km, T_k = compute_T_km(K, M, Delta_km, Delta_k, delta)\n",
        "\n",
        "# Compute the total value of T\n",
        "    total_T = compute_total_T(K, M, T_km, T_k)\n",
        "    print(total_T)"
      ]
    },
    {
      "cell_type": "code",
      "execution_count": null,
      "metadata": {
        "id": "cCX_luI6ao6B"
      },
      "outputs": [
        {
          "data": {
            "image/png": "[encoded data removed]",
            "text/plain": [
              "<Figure size 640x480 with 1 Axes>"
            ]
          },
          "metadata": {},
          "output_type": "display_data"
        }
      ],
      "source": [
        "plot_results(results, costs, deltas, C_values)"
      ]
    },
    {
      "cell_type": "code",
      "execution_count": 32,
      "metadata": {},
      "outputs": [],
      "source": [
        "import numpy as np\n",
        "import matplotlib.pyplot as plt\n",
        "\n",
        "# Define the FedELIM algorithm\n",
        "def fedelim2(K, M, means, delta, C, H, communicate_every_round=False):\n",
        "    n = 0  # iteration counter\n",
        "    total_pulls = 0\n",
        "    comm_cost = 0\n",
        "    mu_hat = np.zeros((K, M))\n",
        "    mu_hat_g = np.zeros(K)   # empirical means\n",
        "    S_m = [list(range(K)) for _ in range(M)]  # active arms for each client\n",
        "    S_g = list(range(K))  # global active arms\n",
        "    run = True\n",
        "    alpha_l = lambda n: np.sqrt(2 * np.log(8 * K * M * n**2 / delta) / n)\n",
        "    alpha_g = lambda n: np.sqrt(2 * np.log(8 * K * n**2 / delta) / (M * n))\n",
        "    \n",
        "    while run:\n",
        "        n += 1  # increment round number\n",
        "\n",
        "        for m in range(M):\n",
        "            if len(S_m[m]) > 1:\n",
        "                for k in np.union1d(S_m[m], S_g):\n",
        "                    arm_reward = np.random.normal(means[k, m], 1)  # simulate pulling the arm\n",
        "                    total_pulls += 1\n",
        "                    mu_hat[k, m] = (mu_hat[k, m] * (n - 1) + arm_reward) / n  # update empirical mean\n",
        "\n",
        "                max_mu_m = max(mu_hat[k, m] for k in S_m[m])\n",
        "                S_m[m] = [k for k in S_m[m] if max_mu_m - mu_hat[k, m] < 2 * alpha_l(n)]\n",
        "\n",
        "        # Communication step: communicate every H rounds or if communicate_every_round is True\n",
        "        if len(S_g) > 1 and (communicate_every_round or n % H == 0):\n",
        "            comm_cost += (C * M * len(S_g))\n",
        "            for k in S_g:\n",
        "                mu_k = np.mean([mu_hat[k, m] for m in range(M)])  # average empirical mean across clients\n",
        "                mu_hat_g[k] = mu_k\n",
        "\n",
        "            max_mu_g = max(mu_hat_g[k] for k in S_g)\n",
        "            S_g = [k for k in S_g if max_mu_g - mu_hat_g[k] < 2 * alpha_g(n)]\n",
        "\n",
        "        # Check termination conditions\n",
        "        if all(len(S_m[m]) == 1 for m in range(M)) and len(S_g) == 1:\n",
        "            run = False\n",
        "\n",
        "    total_cost = comm_cost + total_pulls\n",
        "    return total_pulls, comm_cost, total_cost"
      ]
    },
    {
      "cell_type": "code",
      "execution_count": 33,
      "metadata": {},
      "outputs": [],
      "source": [
        "import numpy as np\n",
        "import matplotlib.pyplot as plt\n",
        "\n",
        "# Define the FedELIM algorithm with flexible communication strategy\n",
        "def fedelim(K, M, means, delta, C, H=1, communicate_periodic=True):\n",
        "    n = 0  # iteration counter\n",
        "    total_pulls = 0\n",
        "    comm_cost = 0\n",
        "    mu_hat = np.zeros((K, M))\n",
        "    mu_hat_g = np.zeros(K)  # empirical means\n",
        "    S_m = [list(range(K)) for _ in range(M)]  # active arms for each client\n",
        "    S_g = list(range(K))  # global active arms\n",
        "    run = True\n",
        "\n",
        "    alpha_l = lambda n: np.sqrt(2 * np.log(8 * K * M * n**2 / delta) / n)\n",
        "    alpha_g = lambda n: np.sqrt(2 * np.log(8 * K * n**2 / delta) / (M * n))\n",
        "\n",
        "    while run:\n",
        "        n += 1  # increment round number\n",
        "        for m in range(M):\n",
        "            if len(np.union1d(S_m[m], S_g)) > 1:\n",
        "                for k in np.union1d(S_m[m], S_g):\n",
        "                    arm_reward = np.random.normal(means[k, m], 1)  # simulate pulling the arm\n",
        "                    total_pulls += 1\n",
        "                    mu_hat[k, m] = (mu_hat[k, m] * (n - 1) + arm_reward) / n  # update empirical mean\n",
        "\n",
        "                max_mu_m = max(mu_hat[k, m] for k in S_m[m])\n",
        "                S_m[m] = [k for k in S_m[m] if max_mu_m - mu_hat[k, m] < 2 * alpha_l(n)]\n",
        "\n",
        "        # Determine communication strategy\n",
        "        if len(S_g) > 1:\n",
        "            if communicate_periodic:\n",
        "                should_communicate = (n % H == 0)  # Periodic communication\n",
        "            else:\n",
        "                should_communicate = (n & (n - 1) == 0)  # Exponential communication, check if n is a power of 2\n",
        "\n",
        "            if should_communicate:\n",
        "                comm_cost += (C * M * len(S_g))\n",
        "                for k in S_g:\n",
        "                    mu_k = np.mean([mu_hat[k, m] for m in range(M)])  # average empirical mean across clients\n",
        "                    mu_hat_g[k] = mu_k\n",
        "\n",
        "                max_mu_g = max(mu_hat_g[k] for k in S_g)\n",
        "                S_g = [k for k in S_g if max_mu_g - mu_hat_g[k] < 2 * alpha_g(n)]\n",
        "\n",
        "        # Stopping condition\n",
        "        if all(len(S_m[m]) == 1 for m in range(M)) and len(S_g) == 1:\n",
        "            run = False\n",
        "\n",
        "    total_cost = comm_cost + total_pulls\n",
        "    return total_pulls, comm_cost, total_cost"
      ]
    },
    {
      "cell_type": "code",
      "execution_count": 48,
      "metadata": {},
      "outputs": [],
      "source": [
        "# Running the experiment\n",
        "def run_experiments2(K, M, means, deltas, C, H_values, runs=100):\n",
        "    results = {} #Arm pulls\n",
        "    costs = {} #Total cost\n",
        "    comm = {} #Commuication cost\n",
        "    for delta in deltas:\n",
        "\n",
        "        #Add FedELIM0 separately for C=0\n",
        "\n",
        "        total_pulls_list = []\n",
        "        comm_cost_list = []\n",
        "        total_cost_list = []\n",
        "        for _ in range(runs):\n",
        "            # FedELIM0 (communicate every round)\n",
        "            total_pulls, comm_cost, total_cost = fedelim(K, M, means, delta, C, 1, communicate_periodic=False)\n",
        "            total_pulls_list.append(total_pulls)\n",
        "            comm_cost_list.append(comm_cost)\n",
        "            total_cost_list.append(total_cost)\n",
        "\n",
        "        mean_pulls = np.mean(total_pulls_list)\n",
        "        mean_comm_cost = np.mean(comm_cost_list)\n",
        "        mean_total_cost = np.mean(total_cost_list)\n",
        "        std_pulls = np.std(total_pulls_list)\n",
        "        std_comm_cost = np.std(comm_cost_list)\n",
        "        std_total_cost = np.std(total_cost_list)\n",
        "\n",
        "        results[(delta, 10, 'FedELIM')] = (mean_pulls, std_pulls)\n",
        "        costs[(delta, 10, 'FedELIM')] = (mean_total_cost, std_total_cost)\n",
        "        comm[(delta, 10, 'FedELIM')] = (mean_comm_cost, std_comm_cost)\n",
        "\n",
        "        for H in H_values:\n",
        "        #Add FedELIM0 sepa\n",
        "        # rately for C=0\n",
        "\n",
        "            total_pulls_list = []\n",
        "            comm_cost_list = []\n",
        "            total_cost_list = []\n",
        "            for _ in range(runs):\n",
        "                # FedELIM0 (communicate every round)   \n",
        "                total_pulls, comm_cost, total_cost = fedelim(K, M, means, delta, C , H, communicate_periodic=True)\n",
        "                total_pulls_list.append(total_pulls)\n",
        "                comm_cost_list.append(comm_cost)\n",
        "                total_cost_list.append(total_cost)\n",
        "\n",
        "\n",
        "            mean_pulls = np.mean(total_pulls_list)\n",
        "            mean_comm_cost = np.mean(comm_cost_list)\n",
        "            mean_total_cost = np.mean(total_cost_list)\n",
        "            std_pulls = np.std(total_pulls_list)\n",
        "            std_comm_cost = np.std(comm_cost_list)\n",
        "            std_total_cost = np.std(total_cost_list)\n",
        "\n",
        "            results[(delta, C, f'Periodic_{H}')] = (mean_pulls, std_pulls)\n",
        "            costs[(delta,C , f'Periodic_{H}')] = (mean_total_cost, std_total_cost)\n",
        "            comm[(delta, C, f'Periodic_{H}')] = (mean_comm_cost, std_comm_cost)\n",
        "\n",
        "    return results, costs, comm"
      ]
    },
    {
      "cell_type": "code",
      "execution_count": 57,
      "metadata": {},
      "outputs": [],
      "source": [
        "# Main execution\n",
        "means = np.array([[0.9, 0.1, 0.1],\n",
        "                  [0.1, 0.9, 0.1],\n",
        "                  [0.1, 0.1, 0.9],\n",
        "                  [0.5, 0.5, 0.5]])\n",
        "\n",
        "K, M = means.shape\n",
        "deltas = [np.exp(-1), np.exp(-3), np.exp(-5)]  # Different delta values\n",
        "C_values = [0, 10, 100]  # Different communication costs\n",
        "\n",
        "# Run experiments and plot results\n",
        "results2, costs2, comm2 = run_experiments2(K, M, means, deltas, 10, [1,5,10], runs=100)"
      ]
    },
    {
      "cell_type": "code",
      "execution_count": 63,
      "metadata": {},
      "outputs": [],
      "source": [
        "import numpy as np\n",
        "import matplotlib.pyplot as plt\n",
        "\n",
        "# Updated plotting function\n",
        "def plot_results2(comm, deltas):\n",
        "    colors = ['orange', 'blue', 'green', 'red']  # Colors for the 4 cases: FedELIM, Periodic H=1, H=5, H=10\n",
        "    labels = [\"FedELIM\", \"Periodic H=1\", \"Periodic H=5\", \"Periodic H=10\"]\n",
        "\n",
        "    x_pos = np.arange(len(deltas))\n",
        "    width = 0.2  # Bar width\n",
        "\n",
        "    fig, ax = plt.subplots()\n",
        "\n",
        "    # First bar is for FedELIM with C=10, applying ln transformation to means\n",
        "    fedelim_means = [np.log(comm[(delta, 10, 'FedELIM')][0]) for delta in deltas]\n",
        "    fedelim_stds = [comm[(delta, 10, 'FedELIM')][1] / comm[(delta, 10, 'FedELIM')][0] for delta in deltas]  # Relative error after log\n",
        "    ax.bar(x_pos, fedelim_means, width, yerr=fedelim_stds, label=\"FedELIM C = 10\", color=colors[0])\n",
        "\n",
        "    # Following bars for Periodic with H=1, H=5, and H=10, applying ln transformation\n",
        "    for i, H in enumerate([1, 5, 10]):\n",
        "        means = [np.log(comm[(delta, 10, f'Periodic_{H}')][0]) for delta in deltas]\n",
        "        stds = [comm[(delta, 10, f'Periodic_{H}')][1] / comm[(delta, 10, f'Periodic_{H}')][0] for delta in deltas]  # Relative error\n",
        "        ax.bar(x_pos + (i + 1)*width, means, width, yerr=stds, label=labels[i + 1], color=colors[i + 1])\n",
        "\n",
        "    # Set x-axis labels to ln(1/delta)\n",
        "    ln_deltas = [np.log(1/delta) for delta in deltas]\n",
        "    ax.set_xticks(x_pos + 1.5*width)\n",
        "    ax.set_xticklabels([f'{np.ceil(np.log(1/delta))}' for delta in deltas])\n",
        "\n",
        "    # Labels and title\n",
        "    ax.set_xlabel('ln(1/delta)')\n",
        "    ax.set_ylabel('ln(Communication Cost)')\n",
        "    ax.set_title('ln(Communication Cost) vs ln(1/delta) for Different Algorithms')\n",
        "    ax.legend()\n",
        "\n",
        "    # Show plot\n",
        "    plt.show()\n"
      ]
    },
    {
      "cell_type": "code",
      "execution_count": 64,
      "metadata": {},
      "outputs": [
        {
          "data": {
            "image/png": "[encoded data removed]",
            "text/plain": [
              "<Figure size 640x480 with 1 Axes>"
            ]
          },
          "metadata": {},
          "output_type": "display_data"
        }
      ],
      "source": [
        "plot_results2(comm2, deltas)"
      ]
    },
    {
      "cell_type": "code",
      "execution_count": 65,
      "metadata": {},
      "outputs": [
        {
          "name": "stdout",
          "output_type": "stream",
          "text": [
            "{(0.3678794411714424, 10, 'FedELIM'): (1574.4, 38.29673615335908), (0.3678794411714424, 10, 'Periodic_1'): (380250.6, 71075.30748185336), (0.3678794411714424, 10, 'Periodic_5'): (76242.6, 15765.445672102009), (0.3678794411714424, 10, 'Periodic_10'): (37099.2, 6395.869867344081), (0.04978706836786394, 10, 'FedELIM'): (1590.6, 44.086732698171225), (0.04978706836786394, 10, 'Periodic_1'): (415948.5, 80452.37115679064), (0.04978706836786394, 10, 'Periodic_5'): (85850.7, 16916.590983705908), (0.04978706836786394, 10, 'Periodic_10'): (41987.1, 7789.474731328165), (0.006737946999085467, 10, 'FedELIM'): (1605.0, 46.184412955021955), (0.006737946999085467, 10, 'Periodic_1'): (449111.4, 73896.5521796518), (0.006737946999085467, 10, 'Periodic_5'): (92286.6, 17107.03149117345), (0.006737946999085467, 10, 'Periodic_10'): (45390.3, 7920.008517040876)}\n"
          ]
        }
      ],
      "source": [
        "print(comm2)"
      ]
    },
    {
      "cell_type": "code",
      "execution_count": 66,
      "metadata": {},
      "outputs": [],
      "source": [
        "# Main execution\n",
        "means = np.array([[0.9, 0.1, 0.1],\n",
        "                  [0.1, 0.9, 0.1],\n",
        "                  [0.1, 0.1, 0.9],\n",
        "                  [0.5, 0.5, 0.5]])\n",
        "\n",
        "K, M = means.shape\n",
        "deltas = [np.exp(-1), np.exp(-3), np.exp(-5)]  # Different delta values\n",
        "C_values = [0, 10, 100]  # Different communication costs\n",
        "\n",
        "# Run experiments and plot results\n",
        "results2, costs2, comm2 = run_experiments2(K, M, means, deltas, 10, [1,10, 100, 1000, 10^4, 10^5], runs=100)"
      ]
    },
    {
      "cell_type": "code",
      "execution_count": 81,
      "metadata": {},
      "outputs": [],
      "source": [
        "import numpy as np\n",
        "import matplotlib.pyplot as plt\n",
        "\n",
        "# Updated plotting function\n",
        "def plot_results3(comm, deltas):\n",
        "    colors = ['orange', 'blue', 'green', 'red', 'purple', 'pink', 'cyan']  # Colors for the 4 cases: FedELIM, Periodic H=1, H=5, H=10\n",
        "    labels = [\"FedELIM\", \"H=1\", \"H=10\", \"H=10^2\", \"H=10^3\", \"H=10^4\", \"H=10^5\"]\n",
        "\n",
        "    x_pos = np.arange(len(deltas))\n",
        "    width = 0.1  # Bar width\n",
        "\n",
        "    fig, ax = plt.subplots()\n",
        "\n",
        "    # First bar is for FedELIM with C=10, applying ln transformation to means\n",
        "    fedelim_means = [np.log(comm[(delta, 10, 'FedELIM')][0]) for delta in deltas]\n",
        "    fedelim_stds = [comm[(delta, 10, 'FedELIM')][1] / comm[(delta, 10, 'FedELIM')][0] for delta in deltas]  # Relative error after log\n",
        "    ax.bar(x_pos, fedelim_means, width, yerr=fedelim_stds, label=\"FedELIM C = 10\", color=colors[0])\n",
        "\n",
        "    # Following bars for Periodic with H=1, H=5, and H=10, applying ln transformation\n",
        "    for i, H in enumerate([1,10, 100, 1000, 10^4, 10^5]):\n",
        "        means = [np.log(comm[(delta, 10, f'Periodic_{H}')][0]) for delta in deltas]\n",
        "        stds = [comm[(delta, 10, f'Periodic_{H}')][1] / comm[(delta, 10, f'Periodic_{H}')][0] for delta in deltas]  # Relative error\n",
        "        ax.bar(x_pos + (i + 1)*width, means, width, yerr=stds, label=labels[i + 1], color=colors[i + 1])\n",
        "\n",
        "    # Set x-axis labels to ln(1/delta)\n",
        "    ln_deltas = [np.log(1/delta) for delta in deltas]\n",
        "    ax.set_xticks(x_pos + 1.5*width)\n",
        "    ax.set_xticklabels([f'{np.ceil(np.log(1/delta))}' for delta in deltas])\n",
        "\n",
        "    # Labels and title\n",
        "    ax.set_xlabel('ln(1/delta)')\n",
        "    ax.set_ylabel('ln(Total Cost)')\n",
        "    ax.set_title('ln(Total Cost) vs ln(1/delta) for Different Algorithms')\n",
        "    ax.legend()\n",
        "\n",
        "    # Show plot\n",
        "    plt.show()\n"
      ]
    },
    {
      "cell_type": "code",
      "execution_count": 82,
      "metadata": {},
      "outputs": [
        {
          "data": {
            "image/png": "[encoded data removed]",
            "text/plain": [
              "<Figure size 640x480 with 1 Axes>"
            ]
          },
          "metadata": {},
          "output_type": "display_data"
        }
      ],
      "source": [
        "plot_results3(costs2, deltas)"
      ]
    },
    {
      "cell_type": "code",
      "execution_count": 80,
      "metadata": {},
      "outputs": [
        {
          "data": {
            "text/plain": [
              "{(0.3678794411714424, 10, 'FedELIM'): (58136.26, 15853.390384785203),\n",
              " (0.3678794411714424, 10, 'Periodic_1'): (415833.76, 73077.01776360608),\n",
              " (0.3678794411714424, 10, 'Periodic_10'): (77297.98, 15042.022136654366),\n",
              " (0.3678794411714424, 10, 'Periodic_100'): (42535.1, 7404.360268787575),\n",
              " (0.3678794411714424, 10, 'Periodic_1000'): (46588.5, 7575.8428408989585),\n",
              " (0.3678794411714424, 10, 'Periodic_14'): (68015.82, 13730.4610092888),\n",
              " (0.3678794411714424, 10, 'Periodic_15'): (64341.0, 11758.654132170059),\n",
              " (0.04978706836786394, 10, 'FedELIM'): (64171.18, 18487.167986676595),\n",
              " (0.04978706836786394, 10, 'Periodic_1'): (465897.8, 87634.32001196791),\n",
              " (0.04978706836786394, 10, 'Periodic_10'): (85857.0, 13563.558566983813),\n",
              " (0.04978706836786394, 10, 'Periodic_100'): (48988.4, 8583.295954352268),\n",
              " (0.04978706836786394, 10, 'Periodic_1000'): (51413.2, 8322.140215112937),\n",
              " (0.04978706836786394, 10, 'Periodic_14'): (74852.48, 13732.390755057912),\n",
              " (0.04978706836786394, 10, 'Periodic_15'): (72714.6, 12879.8720040224),\n",
              " (0.006737946999085467, 10, 'FedELIM'): (73369.02, 19665.86369421898),\n",
              " (0.006737946999085467, 10, 'Periodic_1'): (504373.0, 94120.80770987889),\n",
              " (0.006737946999085467, 10, 'Periodic_10'): (94303.2, 15618.255784817973),\n",
              " (0.006737946999085467, 10, 'Periodic_100'): (52874.0, 9095.243592120005),\n",
              " (0.006737946999085467, 10, 'Periodic_1000'): (54627.1, 8629.117138502641),\n",
              " (0.006737946999085467, 10, 'Periodic_14'): (78722.9, 12849.145961891787),\n",
              " (0.006737946999085467, 10, 'Periodic_15'): (80328.0, 13724.590485693918)}"
            ]
          },
          "execution_count": 80,
          "metadata": {},
          "output_type": "execute_result"
        }
      ],
      "source": [
        "costs2"
      ]
    },
    {
      "cell_type": "code",
      "execution_count": null,
      "metadata": {},
      "outputs": [],
      "source": []
    }
  ],
  "metadata": {
    "accelerator": "GPU",
    "colab": {
      "gpuType": "T4",
      "provenance": []
    },
    "kernelspec": {
      "display_name": "Python 3.8.10 64-bit",
      "language": "python",
      "name": "python3"
    },
    "language_info": {
      "codemirror_mode": {
        "name": "ipython",
        "version": 3
      },
      "file_extension": ".py",
      "mimetype": "text/x-python",
      "name": "python",
      "nbconvert_exporter": "python",
      "pygments_lexer": "ipython3",
      "version": "3.8.10"
    },
    "vscode": {
      "interpreter": {
        "hash": "916dbcbb3f70747c44a77c7bcd40155683ae19c65e1c03b4aa3499c5328201f1"
      }
    }
  },
  "nbformat": 4,
  "nbformat_minor": 0
}
